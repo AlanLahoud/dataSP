{
 "cells": [
  {
   "cell_type": "code",
   "execution_count": 1,
   "metadata": {},
   "outputs": [],
   "source": [
    "import pandas as pd\n",
    "import glob\n",
    "from tqdm import tqdm\n",
    "import os\n",
    "import numpy as np\n",
    "import holidays\n",
    "from datetime import datetime, timezone, timedelta"
   ]
  },
  {
   "cell_type": "code",
   "execution_count": 2,
   "metadata": {},
   "outputs": [],
   "source": [
    "import math\n",
    "\n",
    "def haversine_distance(lat1, lon1, lat2, lon2):\n",
    "    R = 6371.0  # Radius of the Earth in kilometers\n",
    "\n",
    "    dlat = math.radians(lat2 - lat1)\n",
    "    dlon = math.radians(lon2 - lon1)\n",
    "\n",
    "    a = (math.sin(dlat / 2) ** 2 +\n",
    "         math.cos(math.radians(lat1)) * math.cos(math.radians(lat2)) *\n",
    "         math.sin(dlon / 2) ** 2)\n",
    "    c = 2 * math.atan2(math.sqrt(a), math.sqrt(1 - a))\n",
    "\n",
    "    distance = R * c\n",
    "    return distance\n",
    "\n",
    "def compute_distance(group):\n",
    "    first_row = group.iloc[0]\n",
    "    last_row = group.iloc[-1]\n",
    "    return haversine_distance(first_row['0'], first_row['1'], last_row['0'], last_row['1'])"
   ]
  },
  {
   "cell_type": "code",
   "execution_count": 3,
   "metadata": {},
   "outputs": [],
   "source": [
    "us_holidays = holidays.US(years=datetime.now().year, state='CA')"
   ]
  },
  {
   "cell_type": "code",
   "execution_count": 4,
   "metadata": {
    "scrolled": true
   },
   "outputs": [
    {
     "name": "stderr",
     "output_type": "stream",
     "text": [
      "100%|██████████████████████████████████████████████████████████████| 536/536 [04:01<00:00,  2.22it/s]\n"
     ]
    }
   ],
   "source": [
    "data_path = './../data_cabspotting/'\n",
    "\n",
    "file_paths = glob.glob(data_path + 'processed_*.csv')\n",
    "\n",
    "dfs = []\n",
    "\n",
    "for file_path in tqdm(file_paths):\n",
    "    if os.path.exists(file_path):\n",
    "        df = pd.read_csv(file_path)\n",
    "        df = df[df['trip_id'] > -0.5]\n",
    "        df = df.sort_values(by=['trip_id', '3'])\n",
    "        distances = df.groupby('trip_id').apply(compute_distance).reset_index()\n",
    "        distances.columns = ['trip_id', 'distance_end_start']\n",
    "        timespent = df.groupby('trip_id')['time_diff'].sum().reset_index()\n",
    "        timespent.columns = ['trip_id', 'time_spent']\n",
    "        distance_total = df.groupby('trip_id')['distance_km'].sum().reset_index()\n",
    "        distance_total.columns = ['trip_id', 'distance_total']\n",
    "\n",
    "        \n",
    "        df = df.drop(columns=['0', '1'])\n",
    "        df['count'] = df.groupby('trip_id')[['trip_id']].transform('count')  \n",
    "        df = df.drop_duplicates(subset=['trip_id','driver'], keep='first')\n",
    "        df = df.merge(distances, on=['trip_id'], how='left')\n",
    "        df = df.merge(timespent, on=['trip_id'], how='left')\n",
    "        df = df.merge(distance_total, on=['trip_id'], how='left')\n",
    "        \n",
    "        df['3'] = pd.to_datetime(df['3'])\n",
    "        df['date_start'] = df['3'].dt.date\n",
    "        df['time_start'] = df['3'].apply(lambda x: x.hour * 60 + x.minute)\n",
    "        df['day_of_Week'] = df['3'].dt.weekday\n",
    "\n",
    "        # Check if the date is a holiday and convert to integer\n",
    "        df['is_Holiday'] = df['date_start'].apply(lambda x: int(x in us_holidays))\n",
    "        \n",
    "        \n",
    "        dfs.append(df)\n",
    "        \n",
    "df_full = pd.concat(dfs, axis=0, ignore_index=True)"
   ]
  },
  {
   "cell_type": "code",
   "execution_count": 6,
   "metadata": {},
   "outputs": [],
   "source": [
    "df_full = df_full.drop(columns=['3','distance_km'])"
   ]
  },
  {
   "cell_type": "code",
   "execution_count": 7,
   "metadata": {},
   "outputs": [],
   "source": [
    "df_full['time_spent'] = np.where((df_full['time_spent']<-1400) & (df_full['time_spent']>-1440), \n",
    "                            df_full['time_spent'] + 1440, \n",
    "                            df_full['time_spent'])"
   ]
  },
  {
   "cell_type": "code",
   "execution_count": 8,
   "metadata": {},
   "outputs": [
    {
     "data": {
      "text/plain": [
       "(1580965, 12)"
      ]
     },
     "execution_count": 8,
     "metadata": {},
     "output_type": "execute_result"
    }
   ],
   "source": [
    "df_full.shape"
   ]
  },
  {
   "cell_type": "code",
   "execution_count": 9,
   "metadata": {},
   "outputs": [],
   "source": [
    "df_full.to_csv('features_per_trip.csv', index=False)"
   ]
  },
  {
   "cell_type": "code",
   "execution_count": 10,
   "metadata": {},
   "outputs": [],
   "source": [
    "df_full = pd.read_csv('features_per_trip.csv')"
   ]
  },
  {
   "cell_type": "code",
   "execution_count": 11,
   "metadata": {},
   "outputs": [],
   "source": [
    "df_full = df_full[df_full['time_spent']>60*3]\n",
    "df_full = df_full[df_full['time_spent']<60*120]\n",
    "\n",
    "df_full = df_full[df_full['distance_total']/df_full['time_spent'] > (7/3600)]\n",
    "df_full = df_full[df_full['distance_total']/df_full['time_spent'] < (150/3600)]\n",
    "\n",
    "df_full = df_full[df_full['distance_total']/df_full['count'] < 2.5]\n",
    "\n",
    "df_full = df_full[df_full['count'] > 3.5]\n",
    "\n",
    "df_full = df_full[df_full['distance_end_start']/df_full['distance_total'] > 0.2]"
   ]
  },
  {
   "cell_type": "code",
   "execution_count": 12,
   "metadata": {},
   "outputs": [
    {
     "data": {
      "text/plain": [
       "(752341, 12)"
      ]
     },
     "execution_count": 12,
     "metadata": {},
     "output_type": "execute_result"
    }
   ],
   "source": [
    "df_full.shape"
   ]
  },
  {
   "cell_type": "code",
   "execution_count": 13,
   "metadata": {},
   "outputs": [],
   "source": [
    "df_full.to_csv('features_per_trip_clean.csv', index=False)"
   ]
  },
  {
   "cell_type": "code",
   "execution_count": 14,
   "metadata": {},
   "outputs": [],
   "source": [
    "df_full = pd.read_csv('features_per_trip_clean.csv')"
   ]
  },
  {
   "cell_type": "code",
   "execution_count": 15,
   "metadata": {},
   "outputs": [],
   "source": [
    "f1 = df_full['time_spent'] >= 60*5\n",
    "f3 = df_full['distance_total'] >= 1\n",
    "df_full = df_full[df_full['count'] > 10]\n",
    "#f4 = df_full['distance_km']/df_full['time_spent'] >= 0.15"
   ]
  },
  {
   "cell_type": "code",
   "execution_count": 16,
   "metadata": {},
   "outputs": [
    {
     "name": "stderr",
     "output_type": "stream",
     "text": [
      "/tmp/ipykernel_52881/3448802588.py:1: UserWarning: Boolean Series key will be reindexed to match DataFrame index.\n",
      "  df_full = df_full[f1 & f3]\n"
     ]
    }
   ],
   "source": [
    "df_full = df_full[f1 & f3]"
   ]
  },
  {
   "cell_type": "code",
   "execution_count": 17,
   "metadata": {},
   "outputs": [
    {
     "data": {
      "text/plain": [
       "(263106, 12)"
      ]
     },
     "execution_count": 17,
     "metadata": {},
     "output_type": "execute_result"
    }
   ],
   "source": [
    "df_full.shape"
   ]
  },
  {
   "cell_type": "code",
   "execution_count": 18,
   "metadata": {},
   "outputs": [],
   "source": [
    "df_full.to_csv('features_per_trip_useful.csv', index=False)"
   ]
  },
  {
   "cell_type": "code",
   "execution_count": 19,
   "metadata": {},
   "outputs": [],
   "source": [
    "df_full = pd.read_csv('features_per_trip_useful.csv')"
   ]
  },
  {
   "cell_type": "code",
   "execution_count": 20,
   "metadata": {},
   "outputs": [
    {
     "data": {
      "text/plain": [
       "<AxesSubplot: >"
      ]
     },
     "execution_count": 20,
     "metadata": {},
     "output_type": "execute_result"
    },
    {
     "data": {
      "image/png": "[encoded data removed]",
      "text/plain": [
       "<Figure size 432x288 with 1 Axes>"
      ]
     },
     "metadata": {
      "needs_background": "light"
     },
     "output_type": "display_data"
    }
   ],
   "source": [
    "(df_full['distance_total']/df_full['time_spent']).hist(bins=30)"
   ]
  },
  {
   "cell_type": "code",
   "execution_count": 21,
   "metadata": {},
   "outputs": [
    {
     "data": {
      "text/plain": [
       "<AxesSubplot: >"
      ]
     },
     "execution_count": 21,
     "metadata": {},
     "output_type": "execute_result"
    },
    {
     "data": {
      "image/png": "[encoded data removed]",
      "text/plain": [
       "<Figure size 432x288 with 1 Axes>"
      ]
     },
     "metadata": {
      "needs_background": "light"
     },
     "output_type": "display_data"
    }
   ],
   "source": [
    "(df_full['distance_total']/df_full['count']).hist(bins=30)"
   ]
  },
  {
   "cell_type": "code",
   "execution_count": 22,
   "metadata": {},
   "outputs": [
    {
     "data": {
      "text/plain": [
       "<AxesSubplot: >"
      ]
     },
     "execution_count": 22,
     "metadata": {},
     "output_type": "execute_result"
    },
    {
     "data": {
      "image/png": "[encoded data removed]",
      "text/plain": [
       "<Figure size 432x288 with 1 Axes>"
      ]
     },
     "metadata": {
      "needs_background": "light"
     },
     "output_type": "display_data"
    }
   ],
   "source": [
    "df_full['distance_total'].hist(bins=50)"
   ]
  },
  {
   "cell_type": "code",
   "execution_count": 23,
   "metadata": {
    "scrolled": true
   },
   "outputs": [
    {
     "data": {
      "text/plain": [
       "<AxesSubplot: >"
      ]
     },
     "execution_count": 23,
     "metadata": {},
     "output_type": "execute_result"
    },
    {
     "data": {
      "image/png": "[encoded data removed]",
      "text/plain": [
       "<Figure size 432x288 with 1 Axes>"
      ]
     },
     "metadata": {
      "needs_background": "light"
     },
     "output_type": "display_data"
    }
   ],
   "source": [
    "df_full['count'].hist(bins=50)"
   ]
  },
  {
   "cell_type": "code",
   "execution_count": 24,
   "metadata": {},
   "outputs": [
    {
     "data": {
      "text/plain": [
       "<AxesSubplot: >"
      ]
     },
     "execution_count": 24,
     "metadata": {},
     "output_type": "execute_result"
    },
    {
     "data": {
      "image/png": "[encoded data removed]",
      "text/plain": [
       "<Figure size 432x288 with 1 Axes>"
      ]
     },
     "metadata": {
      "needs_background": "light"
     },
     "output_type": "display_data"
    }
   ],
   "source": [
    "df_full['time_spent'].hist(bins=29)"
   ]
  }
 ],
 "metadata": {
  "kernelspec": {
   "display_name": "pao_env",
   "language": "python",
   "name": "pao_env"
  },
  "language_info": {
   "codemirror_mode": {
    "name": "ipython",
    "version": 3
   },
   "file_extension": ".py",
   "mimetype": "text/x-python",
   "name": "python",
   "nbconvert_exporter": "python",
   "pygments_lexer": "ipython3",
   "version": "3.8.10"
  }
 },
 "nbformat": 4,
 "nbformat_minor": 4
}
